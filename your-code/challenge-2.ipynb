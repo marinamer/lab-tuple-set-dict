{
 "cells": [
  {
   "cell_type": "markdown",
   "metadata": {},
   "source": [
    "## Challenge 2: Sets\n",
    "\n",
    "There are a lot to learn about Python Sets and the information presented in the lesson is limited due to its length. To learn Python Sets in depth you are strongly encouraged to review the W3Schools tutorial on [Python Sets Examples and Methods](https://www.w3schools.com/python/python_sets.asp) before you work on this lab. Some difficult questions in this lab have their solutions in the W3Schools tutorial.\n",
    "\n",
    "#### First, import the Python `random` libary"
   ]
  },
  {
   "cell_type": "code",
   "execution_count": null,
   "metadata": {},
   "outputs": [],
   "source": [
    "import random"
   ]
  },
  {
   "cell_type": "markdown",
   "metadata": {},
   "source": [
    "#### 1 - In the cell below, create a list named `sample_list_1` with 80 random values. \n",
    "\n",
    "Requirements:\n",
    "\n",
    "* Each value is an integer falling between 0 and 100.\n",
    "* Each value in the list is unique.\n",
    "\n",
    "Print `sample_list_1` to review its values\n",
    "\n",
    "*Hint: use `random.sample` ([reference](https://docs.python.org/3/library/random.html#random.sample)).*"
   ]
  },
  {
   "cell_type": "code",
   "execution_count": 3,
   "metadata": {},
   "outputs": [
    {
     "name": "stdout",
     "output_type": "stream",
     "text": [
      "[76, 59, 62, 43, 27, 93, 21, 26, 24, 9, 19, 58, 44, 74, 10, 51, 95, 83, 75, 55, 3, 96, 69, 84, 78, 46, 31, 13, 5, 66, 47, 7, 97, 15, 40, 86, 8, 81, 35, 63, 99, 39, 25, 54, 1, 91, 92, 50, 65, 60, 72, 67, 4, 0, 41, 57, 85, 70, 32, 6, 49, 45, 23, 79, 80, 98, 56, 16, 33, 82, 30, 61, 52, 73, 11, 17, 14, 64, 88, 71]\n"
     ]
    }
   ],
   "source": [
    "# Your code here\n",
    "import random\n",
    "sample_list_1 = random.sample(range(100), 80)\n",
    "print(sample_list_1)"
   ]
  },
  {
   "cell_type": "markdown",
   "metadata": {},
   "source": [
    "#### 2 - Convert `sample_list_1` to a set called `set1`. Print the length of the set. Is its length still 80?"
   ]
  },
  {
   "cell_type": "code",
   "execution_count": 4,
   "metadata": {},
   "outputs": [
    {
     "name": "stdout",
     "output_type": "stream",
     "text": [
      "80\n"
     ]
    }
   ],
   "source": [
    "# Your code here\n",
    "import random\n",
    "sample_list_1 = random.sample(range(100), 80)\n",
    "set1 = set(sample_list_1)\n",
    "print(len(set1))"
   ]
  },
  {
   "cell_type": "markdown",
   "metadata": {},
   "source": [
    "#### 3 - Create another list named `sample_list_2` with 80 random values.\n",
    "\n",
    "Requirements:\n",
    "\n",
    "* Each value is an integer falling between 0 and 100.\n",
    "* The values in the list don't have to be unique.\n",
    "\n",
    "*Hint: Use a FOR loop.*"
   ]
  },
  {
   "cell_type": "code",
   "execution_count": null,
   "metadata": {},
   "outputs": [],
   "source": [
    "# Your code here\n",
    "import random\n",
    "sample_list_1 = random.sample(range(100), 80)\n",
    "set1 = set(sample_list_1)\n",
    "sample_list_2 = []\n",
    "\n",
    "for number in range(80):\n",
    "    from random import randint\n",
    "    sample_list_2.append(randint(1,100))"
   ]
  },
  {
   "cell_type": "markdown",
   "metadata": {},
   "source": [
    "#### 4 - Convert `sample_list_2` to a set called `set2`. Print the length of the set. Is its length still 80?"
   ]
  },
  {
   "cell_type": "code",
   "execution_count": 19,
   "metadata": {},
   "outputs": [],
   "source": [
    "# Your code here\n",
    "import random\n",
    "sample_list_1 = random.sample(range(100), 80)\n",
    "set1 = set(sample_list_1)\n",
    "sample_list_2 = []\n",
    "\n",
    "for number in range(80):\n",
    "    from random import randint\n",
    "    sample_list_2.append(randint(1,100))\n",
    "\n",
    "set2 = set(sample_list_2)"
   ]
  },
  {
   "cell_type": "markdown",
   "metadata": {},
   "source": [
    "#### 5 - Identify the elements present in `set1` but not in `set2`. Assign the elements to a new set named `set3`."
   ]
  },
  {
   "cell_type": "code",
   "execution_count": 20,
   "metadata": {},
   "outputs": [
    {
     "name": "stdout",
     "output_type": "stream",
     "text": [
      "{97, 66, 3, 99, 90, 70, 8, 72, 45, 78, 20, 24, 89, 58}\n"
     ]
    }
   ],
   "source": [
    "# Your code here\n",
    "import random\n",
    "sample_list_1 = random.sample(range(100), 80)\n",
    "set1 = set(sample_list_1)\n",
    "\n",
    "sample_list_2 = []\n",
    "\n",
    "\n",
    "for number in range(80):\n",
    "    from random import randint\n",
    "    sample_list_2.append(randint(1,100))\n",
    "    \n",
    "\n",
    "set2 = set(sample_list_2)\n",
    "\n",
    "set3 = set1.difference(set2)\n",
    "print(set3)"
   ]
  },
  {
   "cell_type": "markdown",
   "metadata": {},
   "source": [
    "#### 6 - Identify the elements present in `set2` but not in `set1`. Assign the elements to a new set named `set4`."
   ]
  },
  {
   "cell_type": "code",
   "execution_count": 21,
   "metadata": {},
   "outputs": [
    {
     "name": "stdout",
     "output_type": "stream",
     "text": [
      "{1, 4, 10, 15, 20, 21, 24, 29, 34, 35, 39, 40, 41, 49, 50, 51, 53, 54, 57, 59, 61, 65, 66, 67, 68, 71, 74, 77, 78, 89, 92, 94, 95, 98}\n",
      "{97, 100, 69, 70, 72, 11, 19, 85, 87, 91}\n"
     ]
    }
   ],
   "source": [
    "# Your code here\n",
    "import random\n",
    "sample_list_1 = random.sample(range(100), 80)\n",
    "set1 = set(sample_list_1)\n",
    "\n",
    "sample_list_2 = []\n",
    "\n",
    "\n",
    "for number in range(80):\n",
    "    from random import randint\n",
    "    sample_list_2.append(randint(1,100))\n",
    "    \n",
    "\n",
    "set2 = set(sample_list_2)\n",
    "\n",
    "set3 = set1.difference(set2)\n",
    "print(set3)\n",
    "\n",
    "set4 = set2.difference(set1)\n",
    "print(set4)"
   ]
  },
  {
   "cell_type": "markdown",
   "metadata": {},
   "source": [
    "#### 7 - Now Identify the elements shared between `set1` and `set2`. Assign the elements to a new set named `set5`."
   ]
  },
  {
   "cell_type": "code",
   "execution_count": 23,
   "metadata": {},
   "outputs": [
    {
     "name": "stdout",
     "output_type": "stream",
     "text": [
      "{0, 3, 4, 5, 10, 13, 16, 20, 21, 22, 25, 27, 28, 34, 41, 45, 49, 50, 51, 58, 59, 64, 68, 70, 71, 73, 80, 81, 86, 90, 91, 93, 94, 97}\n",
      "{32, 96, 100, 37, 74, 12, 17, 85, 24, 57}\n",
      "{1, 2, 6, 7, 8, 9, 11, 15, 18, 19, 23, 29, 31, 33, 35, 36, 38, 39, 44, 46, 48, 52, 53, 54, 55, 56, 60, 61, 62, 63, 65, 66, 67, 69, 72, 76, 77, 78, 79, 82, 83, 87, 88, 89, 98, 99}\n"
     ]
    }
   ],
   "source": [
    "# Your code here\n",
    "import random\n",
    "sample_list_1 = random.sample(range(100), 80)\n",
    "set1 = set(sample_list_1)\n",
    "\n",
    "sample_list_2 = []\n",
    "\n",
    "\n",
    "for number in range(80):\n",
    "    from random import randint\n",
    "    sample_list_2.append(randint(1,100))\n",
    "    \n",
    "\n",
    "set2 = set(sample_list_2)\n",
    "\n",
    "set3 = set1.difference(set2)\n",
    "print(set3)\n",
    "\n",
    "set4 = set2.difference(set1)\n",
    "print(set4)\n",
    "\n",
    "set5 = set1.intersection(set2)\n",
    "print(set5)"
   ]
  },
  {
   "cell_type": "markdown",
   "metadata": {},
   "source": [
    "#### 8 - Create an empty set called `set6`."
   ]
  },
  {
   "cell_type": "code",
   "execution_count": null,
   "metadata": {},
   "outputs": [],
   "source": [
    "# Your code here\n",
    "import random\n",
    "sample_list_1 = random.sample(range(100), 80)\n",
    "set1 = set(sample_list_1)\n",
    "\n",
    "sample_list_2 = []\n",
    "\n",
    "\n",
    "for number in range(80):\n",
    "    from random import randint\n",
    "    sample_list_2.append(randint(1,100))\n",
    "    \n",
    "\n",
    "set2 = set(sample_list_2)\n",
    "\n",
    "set3 = set1.difference(set2)\n",
    "print(set3)\n",
    "\n",
    "set4 = set2.difference(set1)\n",
    "print(set4)\n",
    "\n",
    "set5 = set1.intersection(set2)\n",
    "print(set5)\n",
    "\n",
    "set6 = set()"
   ]
  },
  {
   "cell_type": "markdown",
   "metadata": {},
   "source": [
    "#### 9 - Add `set3` and `set5` to `set6` using the Python Set `update` method."
   ]
  },
  {
   "cell_type": "code",
   "execution_count": 25,
   "metadata": {},
   "outputs": [
    {
     "name": "stdout",
     "output_type": "stream",
     "text": [
      "{1, 2, 7, 8, 9, 10, 12, 20, 22, 24, 28, 31, 32, 34, 36, 41, 42, 43, 46, 48, 49, 52, 53, 61, 62, 63, 65, 67, 69, 71, 75, 77, 78, 79, 84, 85, 86, 89, 91, 93, 95, 97}\n",
      "{64, 58, 100, 70, 76, 14, 92, 18, 19, 55, 87, 23, 57, 26, 60}\n",
      "{3, 4, 5, 11, 13, 15, 16, 21, 25, 27, 29, 30, 33, 35, 37, 38, 39, 40, 45, 50, 54, 56, 59, 66, 68, 72, 73, 74, 80, 81, 82, 83, 88, 90, 94, 96, 98, 99}\n"
     ]
    }
   ],
   "source": [
    "import random\n",
    "sample_list_1 = random.sample(range(100), 80)\n",
    "set1 = set(sample_list_1)\n",
    "\n",
    "sample_list_2 = []\n",
    "\n",
    "\n",
    "for number in range(80):\n",
    "    from random import randint\n",
    "    sample_list_2.append(randint(1,100))\n",
    "    \n",
    "\n",
    "set2 = set(sample_list_2)\n",
    "\n",
    "set3 = set1.difference(set2)\n",
    "print(set3)\n",
    "\n",
    "set4 = set2.difference(set1)\n",
    "print(set4)\n",
    "\n",
    "set5 = set1.intersection(set2)\n",
    "print(set5)\n",
    "\n",
    "set6 = set()\n",
    "set6.update(set3)\n",
    "set6.update(set5)"
   ]
  },
  {
   "cell_type": "markdown",
   "metadata": {},
   "source": [
    "#### 10 - Check if `set1` and `set6` are equal."
   ]
  },
  {
   "cell_type": "code",
   "execution_count": 26,
   "metadata": {},
   "outputs": [
    {
     "name": "stdout",
     "output_type": "stream",
     "text": [
      "{0, 1, 3, 4, 15, 16, 18, 19, 24, 31, 35, 37, 38, 42, 44, 46, 50, 51, 53, 55, 57, 59, 60, 62, 64, 65, 66, 67, 71, 72, 73, 74, 75, 76, 81, 87, 88, 89, 93, 95}\n",
      "{100, 69, 40, 10, 11, 45, 49, 22, 28, 61, 30}\n",
      "{2, 6, 7, 8, 9, 13, 17, 20, 21, 23, 25, 26, 27, 32, 33, 34, 36, 39, 47, 48, 54, 56, 58, 68, 70, 78, 79, 80, 82, 83, 84, 85, 86, 90, 91, 92, 96, 97, 98, 99}\n"
     ]
    },
    {
     "data": {
      "text/plain": [
       "True"
      ]
     },
     "execution_count": 26,
     "metadata": {},
     "output_type": "execute_result"
    }
   ],
   "source": [
    "import random\n",
    "sample_list_1 = random.sample(range(100), 80)\n",
    "set1 = set(sample_list_1)\n",
    "\n",
    "sample_list_2 = []\n",
    "\n",
    "\n",
    "for number in range(80):\n",
    "    from random import randint\n",
    "    sample_list_2.append(randint(1,100))\n",
    "    \n",
    "\n",
    "set2 = set(sample_list_2)\n",
    "\n",
    "set3 = set1.difference(set2)\n",
    "print(set3)\n",
    "\n",
    "set4 = set2.difference(set1)\n",
    "print(set4)\n",
    "\n",
    "set5 = set1.intersection(set2)\n",
    "print(set5)\n",
    "\n",
    "set6 = set()\n",
    "set6.update(set3)\n",
    "set6.update(set5)\n",
    "\n",
    "set1 == set6"
   ]
  },
  {
   "cell_type": "markdown",
   "metadata": {},
   "source": [
    "#### 11 - Check if `set1` contains `set2` using the Python Set `issubset` method. Then check if `set1` contains `set3`.*"
   ]
  },
  {
   "cell_type": "code",
   "execution_count": 28,
   "metadata": {},
   "outputs": [
    {
     "name": "stdout",
     "output_type": "stream",
     "text": [
      "{0, 1, 2, 5, 6, 8, 10, 14, 15, 16, 18, 19, 25, 26, 27, 43, 44, 46, 48, 49, 50, 51, 53, 54, 55, 61, 64, 66, 68, 72, 73, 80, 89, 94, 95}\n",
      "{33, 100, 45, 79, 83, 20, 21, 24, 90, 92, 30}\n",
      "{3, 4, 7, 11, 13, 17, 22, 23, 28, 31, 32, 34, 35, 36, 39, 40, 41, 47, 52, 57, 58, 59, 62, 63, 65, 67, 69, 70, 71, 74, 75, 76, 77, 78, 81, 82, 84, 85, 86, 87, 88, 93, 96, 97, 99}\n"
     ]
    },
    {
     "data": {
      "text/plain": [
       "True"
      ]
     },
     "execution_count": 28,
     "metadata": {},
     "output_type": "execute_result"
    }
   ],
   "source": [
    "# Your code here\n",
    "import random\n",
    "sample_list_1 = random.sample(range(100), 80)\n",
    "set1 = set(sample_list_1)\n",
    "\n",
    "sample_list_2 = []\n",
    "\n",
    "\n",
    "for number in range(80):\n",
    "    from random import randint\n",
    "    sample_list_2.append(randint(1,100))\n",
    "    \n",
    "\n",
    "set2 = set(sample_list_2)\n",
    "\n",
    "set3 = set1.difference(set2)\n",
    "print(set3)\n",
    "\n",
    "set4 = set2.difference(set1)\n",
    "print(set4)\n",
    "\n",
    "set5 = set1.intersection(set2)\n",
    "print(set5)\n",
    "\n",
    "set6 = set()\n",
    "set6.update(set3)\n",
    "set6.update(set5)\n",
    "\n",
    "set1 == set6\n",
    "\n",
    "set2.issubset(set1)\n",
    "set3.issubset(set1)"
   ]
  },
  {
   "cell_type": "markdown",
   "metadata": {},
   "source": [
    "#### 12 -Using the Python Set `union` method, aggregate `set3`, `set4`, and `set5`. Then aggregate `set1` and `set2`. \n",
    "\n",
    "#### Check if the aggregated values are equal."
   ]
  },
  {
   "cell_type": "code",
   "execution_count": 29,
   "metadata": {},
   "outputs": [
    {
     "name": "stdout",
     "output_type": "stream",
     "text": [
      "Set 7:  {0, 2, 3, 4, 5, 7, 8, 9, 10, 11, 12, 13, 14, 15, 16, 17, 18, 19, 20, 21, 22, 23, 24, 26, 27, 28, 30, 31, 32, 33, 35, 36, 37, 38, 40, 41, 42, 43, 44, 45, 46, 47, 48, 49, 50, 51, 52, 53, 54, 55, 56, 57, 58, 59, 60, 61, 62, 63, 64, 65, 66, 67, 68, 69, 70, 71, 72, 73, 74, 75, 76, 77, 78, 79, 80, 81, 82, 83, 84, 85, 86, 87, 88, 89, 90, 91, 92, 93, 94, 95, 96, 97, 98, 99}\n"
     ]
    }
   ],
   "source": [
    "import random\n",
    "sample_list_1 = random.sample(range(100), 80)\n",
    "set1 = set(sample_list_1)\n",
    "\n",
    "sample_list_2 = []\n",
    "\n",
    "\n",
    "for number in range(80):\n",
    "    from random import randint\n",
    "    sample_list_2.append(randint(1,100))\n",
    "    \n",
    "\n",
    "set2 = set(sample_list_2)\n",
    "\n",
    "set3 = set1.difference(set2)\n",
    "\n",
    "\n",
    "set4 = set2.difference(set1)\n",
    "\n",
    "set5 = set1.intersection(set2)\n",
    "\n",
    "\n",
    "set6 = set()\n",
    "set6.update(set3)\n",
    "set6.update(set5)\n",
    "\n",
    "\n",
    "set7 = set3.union(set4,set5,set1,set2)\n",
    "\n",
    "print(\"Set 7: \", set7)"
   ]
  },
  {
   "cell_type": "markdown",
   "metadata": {},
   "source": [
    "#### 13 -Using the `pop` method, remove the first element from `set1`."
   ]
  },
  {
   "cell_type": "code",
   "execution_count": 30,
   "metadata": {},
   "outputs": [
    {
     "name": "stdout",
     "output_type": "stream",
     "text": [
      "{0, 1, 2, 3, 5, 6, 7, 8, 9, 11, 12, 13, 14, 15, 16, 18, 20, 21, 22, 23, 24, 25, 27, 28, 29, 30, 31, 32, 33, 34, 35, 36, 37, 38, 39, 41, 43, 44, 45, 46, 47, 48, 49, 51, 53, 54, 55, 56, 57, 58, 59, 61, 63, 64, 65, 66, 67, 68, 70, 71, 72, 73, 74, 75, 78, 79, 80, 81, 85, 87, 89, 90, 91, 93, 94, 95, 96, 97, 98, 99}\n",
      "{1, 2, 3, 5, 6, 7, 8, 9, 11, 12, 13, 14, 15, 16, 18, 20, 21, 22, 23, 24, 25, 27, 28, 29, 30, 31, 32, 33, 34, 35, 36, 37, 38, 39, 41, 43, 44, 45, 46, 47, 48, 49, 51, 53, 54, 55, 56, 57, 58, 59, 61, 63, 64, 65, 66, 67, 68, 70, 71, 72, 73, 74, 75, 78, 79, 80, 81, 85, 87, 89, 90, 91, 93, 94, 95, 96, 97, 98, 99}\n"
     ]
    }
   ],
   "source": [
    "# Your code here\n",
    "import random\n",
    "sample_list_1 = random.sample(range(100), 80)\n",
    "set1 = set(sample_list_1)\n",
    "\n",
    "sample_list_2 = []\n",
    "\n",
    "\n",
    "for number in range(80):\n",
    "    from random import randint\n",
    "    sample_list_2.append(randint(1,100))\n",
    "    \n",
    "\n",
    "set2 = set(sample_list_2)\n",
    "\n",
    "set3 = set1.difference(set2)\n",
    "\n",
    "set4 = set2.difference(set1)\n",
    "\n",
    "set5 = set1.intersection(set2)\n",
    "\n",
    "set6 = set()\n",
    "set6.update(set3)\n",
    "set6.update(set5)\n",
    "\n",
    "set7 = set3.union(set4,set5,set1,set2)\n",
    "\n",
    "\n",
    "print(set1)\n",
    "\n",
    "set1.pop()\n",
    "\n",
    "print(set1)"
   ]
  },
  {
   "cell_type": "markdown",
   "metadata": {},
   "source": [
    "#### 14 -Remove every element in the following list from `set1` if they are present in the set. Print the remaining elements.\n",
    "\n",
    "```\n",
    "list_to_remove = [1, 9, 11, 19, 21, 29, 31, 39, 41, 49, 51, 59, 61, 69, 71, 79, 81, 89, 91, 99]\n",
    "```"
   ]
  },
  {
   "cell_type": "code",
   "execution_count": 31,
   "metadata": {},
   "outputs": [
    {
     "name": "stdout",
     "output_type": "stream",
     "text": [
      "{2, 3, 4, 5, 7, 8, 10, 12, 13, 16, 17, 18, 20, 22, 24, 25, 26, 27, 30, 32, 33, 34, 35, 36, 37, 38, 40, 43, 44, 45, 46, 47, 50, 52, 54, 55, 57, 62, 63, 64, 67, 68, 70, 72, 73, 74, 75, 76, 77, 78, 80, 83, 85, 86, 87, 88, 90, 92, 93, 95, 98}\n"
     ]
    }
   ],
   "source": [
    "import random\n",
    "sample_list_1 = random.sample(range(100), 80)\n",
    "set1 = set(sample_list_1)\n",
    "\n",
    "sample_list_2 = []\n",
    "\n",
    "\n",
    "for number in range(80):\n",
    "    from random import randint\n",
    "    sample_list_2.append(randint(1,100))\n",
    "    \n",
    "\n",
    "set2 = set(sample_list_2)\n",
    "\n",
    "set3 = set1.difference(set2)\n",
    "\n",
    "set4 = set2.difference(set1)\n",
    "\n",
    "set5 = set1.intersection(set2)\n",
    "\n",
    "set6 = set()\n",
    "set6.update(set3)\n",
    "set6.update(set5)\n",
    "\n",
    "set7 = set3.union(set4,set5,set1,set2)\n",
    "\n",
    "set1.pop()\n",
    "\n",
    "list_to_remove = [1, 9, 11, 19, 21, 29, 31, 39, 41, 49, 51, 59, 61, 69, 71, 79, 81, 89, 91, 99]\n",
    "\n",
    "for i in list_to_remove:\n",
    "    set1.discard(i)\n",
    "    \n",
    "print(set1)\n"
   ]
  },
  {
   "cell_type": "markdown",
   "metadata": {},
   "source": [
    "#### 15 -The objective of this lab is to provide you a overview of manipulating sets in Python and how they can be integrated within a real usecase\n",
    "#### For the exercises below it's strongly advised to quickly check this link: https://docs.python.org/2/library/sets.html#sets.Set\n",
    "#### Imagine you need to create the grocery list for your family! Below you will see a list of items each family member wants. There will be repetitions because this family has the habbit of each time they notice something is missing to write it down. The problem is that they don't really talk to each other and therefore some items in the list are repeated. With the collection of questions below you will see how they solve repetion and create a grocery list with unique elements.\n",
    "\n"
   ]
  },
  {
   "cell_type": "code",
   "execution_count": null,
   "metadata": {},
   "outputs": [],
   "source": [
    "father_list = ['garlic', 'watermelon', 'toilet paper', 'yogurt', 'onions', 'gums', 'flour', 'cucumber', 'watermelon', 'yogurt', 'garlic']\n",
    "\n",
    "mother_list = []\n",
    "\n",
    "Jo_list = ['blueberries', 'sugar', 'watermelon', 'gums', 'tomatoes', 'yogurt', 'juice', 'milk', 'onions', 'garlic', 'cucumber', 'sugar', 'blueberries', 'gums', 'yogurt']\n",
    "\n",
    "Carlos_list = ['tomatoes', 'water', 'onions', 'blueberries', 'garlic', 'flour', 'cherries', 'tomatoes', 'onions', 'water', 'tomatoes', 'toilet paper']\n",
    "\n",
    "Mattia_list = []\n",
    "\n",
    "\n"
   ]
  },
  {
   "cell_type": "markdown",
   "metadata": {},
   "source": [
    "#### 15.1- As you can see there are items repeated in each list. Creat a sequence of iterable elements with dintinct items that each family member wants. You can do it in two different ways. Assign each one (set) to a variable with the name of the family member (ex: father_set)."
   ]
  },
  {
   "cell_type": "code",
   "execution_count": null,
   "metadata": {},
   "outputs": [],
   "source": [
    "# Your code here\n",
    "father_list = ['garlic', 'watermelon', 'toilet paper', 'yogurt', 'onions', 'gums', 'flour', 'cucumber', 'watermelon', 'yogurt', 'garlic']\n",
    "\n",
    "mother_list = []\n",
    "\n",
    "Jo_list = ['blueberries', 'sugar', 'watermelon', 'gums', 'tomatoes', 'yogurt', 'juice', 'milk', 'onions', 'garlic', 'cucumber', 'sugar', 'blueberries', 'gums', 'yogurt']\n",
    "\n",
    "Carlos_list = ['tomatoes', 'water', 'onions', 'blueberries', 'garlic', 'flour', 'cherries', 'tomatoes', 'onions', 'water', 'tomatoes', 'toilet paper']\n",
    "\n",
    "Mattia_list = []\n",
    "\n",
    "father_set = set(father_list)\n",
    "mother_set = set(mother_list)\n",
    "Jo_set = set(Jo_list)\n",
    "Carlos_set = set(Carlos_list)\n",
    "Mattia_set = set(Mattia_list)"
   ]
  },
  {
   "cell_type": "markdown",
   "metadata": {},
   "source": [
    "#### 15.2- Q: Mattia wants the same items that his brother Carlos and his sister Jo but doesn't want anything they both want.\n",
    "\n",
    "##### Hint: check out the documentation for `x.symmetric_difference(y)`."
   ]
  },
  {
   "cell_type": "code",
   "execution_count": null,
   "metadata": {},
   "outputs": [],
   "source": [
    "# Your code here\n",
    "father_list = ['garlic', 'watermelon', 'toilet paper', 'yogurt', 'onions', 'gums', 'flour', 'cucumber', 'watermelon', 'yogurt', 'garlic']\n",
    "\n",
    "mother_list = []\n",
    "\n",
    "Jo_list = ['blueberries', 'sugar', 'watermelon', 'gums', 'tomatoes', 'yogurt', 'juice', 'milk', 'onions', 'garlic', 'cucumber', 'sugar', 'blueberries', 'gums', 'yogurt']\n",
    "\n",
    "Carlos_list = ['tomatoes', 'water', 'onions', 'blueberries', 'garlic', 'flour', 'cherries', 'tomatoes', 'onions', 'water', 'tomatoes', 'toilet paper']\n",
    "\n",
    "Mattia_list = []\n",
    "\n",
    "father_set = set(father_list)\n",
    "mother_set = set(mother_list)\n",
    "Jo_set = set(Jo_list)\n",
    "Carlos_set = set(Carlos_list)\n",
    "Mattia_set = Carlos_set.symmetric_difference(Jo_set)\n"
   ]
  },
  {
   "cell_type": "markdown",
   "metadata": {},
   "source": [
    "#### 15.3- The line of code below  will  generate a list of random elements from a collection of items, with replacement. Run it and from it create a sequence of unique elements and assign it to the variable mother.\n"
   ]
  },
  {
   "cell_type": "code",
   "execution_count": null,
   "metadata": {},
   "outputs": [],
   "source": [
    "import random\n",
    "items = ['milk', 'water', 'chocolate', 'blueberries', 'shampoo', 'flour', 'bread', 'sugar', 'watermelon', 'vinegar', 'tomatoes', 'yogurt', 'juice', 'gums', 'onions', 'garlic', 'cucumber', 'mushrooms', 'toilet paper', 'oranges', 'deodorant', 'cherries']\n",
    "\n",
    "mother_list = random.choices(items,k = 10) # https://docs.python.org/3/library/random.html\n",
    "\n",
    "print(mother_list)"
   ]
  },
  {
   "cell_type": "code",
   "execution_count": 33,
   "metadata": {},
   "outputs": [
    {
     "name": "stdout",
     "output_type": "stream",
     "text": [
      "['vinegar', 'cucumber', 'gums', 'watermelon', 'sugar', 'deodorant', 'deodorant', 'onions', 'milk', 'vinegar']\n",
      "{'watermelon', 'cucumber', 'onions', 'gums', 'sugar', 'milk', 'vinegar', 'deodorant'}\n"
     ]
    }
   ],
   "source": [
    "# Your code here\n",
    "father_list = ['garlic', 'watermelon', 'toilet paper', 'yogurt', 'onions', 'gums', 'flour', 'cucumber', 'watermelon', 'yogurt', 'garlic']\n",
    "\n",
    "mother_list = []\n",
    "\n",
    "Jo_list = ['blueberries', 'sugar', 'watermelon', 'gums', 'tomatoes', 'yogurt', 'juice', 'milk', 'onions', 'garlic', 'cucumber', 'sugar', 'blueberries', 'gums', 'yogurt']\n",
    "\n",
    "Carlos_list = ['tomatoes', 'water', 'onions', 'blueberries', 'garlic', 'flour', 'cherries', 'tomatoes', 'onions', 'water', 'tomatoes', 'toilet paper']\n",
    "\n",
    "Mattia_list = []\n",
    "\n",
    "import random\n",
    "items = ['milk', 'water', 'chocolate', 'blueberries', 'shampoo', 'flour', 'bread', 'sugar', 'watermelon', 'vinegar', 'tomatoes', 'yogurt', 'juice', 'gums', 'onions', 'garlic', 'cucumber', 'mushrooms', 'toilet paper', 'oranges', 'deodorant', 'cherries']\n",
    "\n",
    "mother_list = random.choices(items,k = 10)\n",
    "print(mother_list)\n",
    "\n",
    "father_set = set(father_list)\n",
    "mother_set = set(mother_list)\n",
    "Jo_set = set(Jo_list)\n",
    "Carlos_set = set(Carlos_list)\n",
    "Mattia_set = Carlos_set.symmetric_difference(Jo_set)\n",
    "\n",
    "print(mother_set)"
   ]
  },
  {
   "cell_type": "markdown",
   "metadata": {},
   "source": [
    "#### 15.4- Before leaving the house to the grocery store the father found a lot of toilet paper, so the mother decided to remove it from the items needed to be bought. Use the `.discard()` method to remove from each set created before the 'toilet paper'. \n",
    "\n",
    "#### Hint: Try to first create a list contaning the variables of each set created before, then loop through them and remove the unecessary item. \n",
    "\n",
    "##### Note: The`.discard()` method will remove and update the set without the need of reassignment.\n",
    "\n"
   ]
  },
  {
   "cell_type": "code",
   "execution_count": null,
   "metadata": {},
   "outputs": [],
   "source": [
    "# Your code here\n"
   ]
  },
  {
   "cell_type": "markdown",
   "metadata": {},
   "source": [
    "#### 15.5- Create a set with all the groceries needed to be bought for the house (no repetitions)."
   ]
  },
  {
   "cell_type": "code",
   "execution_count": null,
   "metadata": {},
   "outputs": [],
   "source": [
    "# Your code here\n"
   ]
  },
  {
   "cell_type": "markdown",
   "metadata": {},
   "source": [
    "#### 15.6- The Father said that he could only buy five items this time. So he decided to arbitraly pick wich ones to buy this time.\n",
    "\n",
    "##### Hint: use the `.pop()` method."
   ]
  },
  {
   "cell_type": "code",
   "execution_count": null,
   "metadata": {},
   "outputs": [],
   "source": [
    "# Your code here\n"
   ]
  }
 ],
 "metadata": {
  "kernelspec": {
   "display_name": "Python 3",
   "language": "python",
   "name": "python3"
  },
  "language_info": {
   "codemirror_mode": {
    "name": "ipython",
    "version": 3
   },
   "file_extension": ".py",
   "mimetype": "text/x-python",
   "name": "python",
   "nbconvert_exporter": "python",
   "pygments_lexer": "ipython3",
   "version": "3.8.3"
  }
 },
 "nbformat": 4,
 "nbformat_minor": 2
}
